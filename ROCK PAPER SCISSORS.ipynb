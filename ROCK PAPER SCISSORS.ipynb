{
 "cells": [
  {
   "cell_type": "code",
   "execution_count": 1,
   "metadata": {},
   "outputs": [
    {
     "name": "stdout",
     "output_type": "stream",
     "text": [
      "Requirement already satisfied: emoji in c:\\users\\nath2\\anaconda3\\lib\\site-packages (1.4.2)\n",
      "Note: you may need to restart the kernel to use updated packages.\n"
     ]
    }
   ],
   "source": [
    "pip install emoji\n"
   ]
  },
  {
   "cell_type": "code",
   "execution_count": 11,
   "metadata": {},
   "outputs": [
    {
     "name": "stdout",
     "output_type": "stream",
     "text": [
      "Make your choice: Press 'r' for rock, 's' for scissors, 'p' for paper\n",
      "r\n"
     ]
    },
    {
     "data": {
      "text/plain": [
       "('your choice was r and computer choice was s. YOU WON ', '😎', '😎', '😎', '😎')"
      ]
     },
     "execution_count": 11,
     "metadata": {},
     "output_type": "execute_result"
    }
   ],
   "source": [
    "import random \n",
    "from emoji import emojize\n",
    "\n",
    "def letsplay():\n",
    "    moves = [\"r\",\"s\",\"p\"]\n",
    "    computer_choice = random.choice(moves)\n",
    "    user_choice = input(\"Make your choice: Press 'r' for rock, 's' for scissors, 'p' for paper\\n\")\n",
    "    user_choice = user_choice.lower()\n",
    "    \n",
    "    if userwins(user_choice,computer_choice):\n",
    "        return (\"your choice was {} and computer choice was {}. YOU WON \".format(user_choice,computer_choice),emojize(\":smiling_face_with_sunglasses:\"),emojize(\":smiling_face_with_sunglasses:\"),emojize(\":smiling_face_with_sunglasses:\"),emojize(\":smiling_face_with_sunglasses:\"))\n",
    "    \n",
    "    elif (user_choice == computer_choice):\n",
    "        return (\"You and computer have selected {}. IT'S TIE\".format(user_choice), emojize(\":angry_face:\"),emojize(\":angry_face:\"))\n",
    "    else : \n",
    "        return (\"your choice was {} and computer choice was {}. Computer has won\".format(user_choice,computer_choice),emojize(\":unamused_face:\"),emojize(\":unamused_face:\"))\n",
    "    \n",
    "def userwins(user_choice,computer_choice):\n",
    "    if (user_choice == 'p' and computer_choice == 'r') or (user_choice == 'r' and computer_choice =='s') or (user_choice == 's' and computer_choice == 'p'):\n",
    "        return True\n",
    "    else : \n",
    "        return False\n",
    "letsplay()\n"
   ]
  },
  {
   "cell_type": "code",
   "execution_count": null,
   "metadata": {},
   "outputs": [],
   "source": []
  },
  {
   "cell_type": "code",
   "execution_count": null,
   "metadata": {},
   "outputs": [],
   "source": []
  }
 ],
 "metadata": {
  "kernelspec": {
   "display_name": "Python 3",
   "language": "python",
   "name": "python3"
  },
  "language_info": {
   "codemirror_mode": {
    "name": "ipython",
    "version": 3
   },
   "file_extension": ".py",
   "mimetype": "text/x-python",
   "name": "python",
   "nbconvert_exporter": "python",
   "pygments_lexer": "ipython3",
   "version": "3.7.3"
  }
 },
 "nbformat": 4,
 "nbformat_minor": 2
}
